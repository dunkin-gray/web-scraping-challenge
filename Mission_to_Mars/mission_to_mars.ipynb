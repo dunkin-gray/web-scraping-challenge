{
 "cells": [
  {
   "cell_type": "markdown",
   "id": "8859317e",
   "metadata": {},
   "source": [
    "# Mars News Site | Scraping Analysis"
   ]
  },
  {
   "cell_type": "markdown",
   "id": "96c83336",
   "metadata": {},
   "source": [
    "Used BeautifulSoup and splinter to collect information on the latest news article on the site"
   ]
  },
  {
   "cell_type": "code",
   "execution_count": null,
   "id": "5269e58d",
   "metadata": {},
   "outputs": [],
   "source": [
    "#Dependencies\n",
    "from bs4 import BeautifulSoup as bs\n",
    "from splinter import Browser\n",
    "import requests\n",
    "import pymongo\n",
    "import time\n",
    "from webdriver_manager.chrome import ChromeDriverManager"
   ]
  },
  {
   "cell_type": "code",
   "execution_count": null,
   "id": "f647dfbe",
   "metadata": {},
   "outputs": [],
   "source": [
    "# Setup splinter\n",
    "executable_path = {'executable_path': ChromeDriverManager().install()}\n",
    "browser = Browser('chrome', **executable_path, headless=False)"
   ]
  },
  {
   "cell_type": "code",
   "execution_count": null,
   "id": "b666fe04",
   "metadata": {},
   "outputs": [],
   "source": [
    "# URL of Mars News page to be scraped\n",
    "url = 'https://redplanetscience.com/'\n",
    "browser.visit(url)\n",
    "\n",
    "# Create BeautifulSoup object\n",
    "html = browser.html\n",
    "soup = bs(html, 'html.parser')"
   ]
  },
  {
   "cell_type": "code",
   "execution_count": null,
   "id": "457aa1ed",
   "metadata": {},
   "outputs": [],
   "source": [
    "soup"
   ]
  },
  {
   "cell_type": "code",
   "execution_count": null,
   "id": "9ed27085",
   "metadata": {},
   "outputs": [],
   "source": [
    "#Add sleep time"
   ]
  },
  {
   "cell_type": "code",
   "execution_count": null,
   "id": "96c9b058",
   "metadata": {},
   "outputs": [],
   "source": [
    "#Collect news articles titles and text\n",
    "title_results = soup.find_all('div', class_='content_title')\n",
    "text_results = soup.find_all('div', class_='article_teaser_body')\n",
    "\n",
    "# Find the latests results\n",
    "first_title=title_results[0].text\n",
    "first_text=text_results[0].text\n",
    "\n",
    "# Print results\n",
    "print(first_title)\n",
    "print(first_text)"
   ]
  },
  {
   "cell_type": "markdown",
   "id": "8d6d015f",
   "metadata": {},
   "source": [
    "# JPL Mars Space Images | Featured Image"
   ]
  },
  {
   "cell_type": "markdown",
   "id": "6706a0af",
   "metadata": {},
   "source": [
    "Used splinter to find current Mars image."
   ]
  },
  {
   "cell_type": "code",
   "execution_count": null,
   "id": "fdecbc94",
   "metadata": {},
   "outputs": [],
   "source": [
    "# URL of Mars News page to be scraped\n",
    "url = 'https://spaceimages-mars.com/'\n",
    "browser.visit(url)\n",
    "\n",
    "# Create BeautifulSoup object\n",
    "html = browser.html\n",
    "soup_image = bs(html, 'html.parser')"
   ]
  },
  {
   "cell_type": "code",
   "execution_count": null,
   "id": "4e32a197",
   "metadata": {},
   "outputs": [],
   "source": [
    "# Click through to find full image\n",
    "browser.click_link_by_partial_text('FULL IMAGE')"
   ]
  },
  {
   "cell_type": "code",
   "execution_count": null,
   "id": "1efd94c4",
   "metadata": {},
   "outputs": [],
   "source": [
    "# add sleep time\n",
    "time.sleep(2)"
   ]
  },
  {
   "cell_type": "code",
   "execution_count": null,
   "id": "c76690e6",
   "metadata": {},
   "outputs": [],
   "source": [
    "# Find mars images\n",
    "results = soup_image.select_one('img.headerimage.fade-in').get('src')\n",
    "\n",
    "featured_image_url = 'https://spaceimages-mars.com/' + results\n",
    "\n",
    "print(featured_image_url)"
   ]
  },
  {
   "cell_type": "markdown",
   "id": "182f2a4d",
   "metadata": {},
   "source": [
    "# Mars Facts"
   ]
  },
  {
   "cell_type": "markdown",
   "id": "f6286ca1",
   "metadata": {},
   "source": [
    "Used Pandas to scrape tables containing facts about Mars"
   ]
  },
  {
   "cell_type": "code",
   "execution_count": null,
   "id": "c30287f2",
   "metadata": {},
   "outputs": [],
   "source": [
    "import pandas as pd"
   ]
  },
  {
   "cell_type": "code",
   "execution_count": null,
   "id": "0dfac75c",
   "metadata": {},
   "outputs": [],
   "source": [
    "url = 'https://galaxyfacts-mars.com/'\n",
    "browser.visit(url)"
   ]
  },
  {
   "cell_type": "code",
   "execution_count": null,
   "id": "06ad5323",
   "metadata": {},
   "outputs": [],
   "source": [
    "table_0 = pd.read_html(url)[0]\n",
    "table_0"
   ]
  },
  {
   "cell_type": "code",
   "execution_count": null,
   "id": "909aedbc",
   "metadata": {},
   "outputs": [],
   "source": [
    "table_1 = pd.read_html(url)[1]\n",
    "table_1"
   ]
  },
  {
   "cell_type": "code",
   "execution_count": null,
   "id": "f4731661",
   "metadata": {},
   "outputs": [],
   "source": [
    "html_table_0 = table_0.to_html()\n",
    "html_table_0"
   ]
  },
  {
   "cell_type": "code",
   "execution_count": null,
   "id": "40b34f23",
   "metadata": {},
   "outputs": [],
   "source": [
    "html_table_1 = table_1.to_html()\n",
    "html_table_1"
   ]
  },
  {
   "cell_type": "markdown",
   "id": "de51b270",
   "metadata": {},
   "source": [
    "# Mars Hemispheres"
   ]
  },
  {
   "cell_type": "code",
   "execution_count": null,
   "id": "e161306b",
   "metadata": {},
   "outputs": [],
   "source": [
    "Find high resolution images of Mars' hemispheres"
   ]
  },
  {
   "cell_type": "code",
   "execution_count": null,
   "id": "21413dea",
   "metadata": {},
   "outputs": [],
   "source": [
    "url = 'https://marshemispheres.com'\n",
    "browser.visit(url)\n",
    "\n",
    "# Create BeautifulSoup object\n",
    "#html = browser.html\n",
    "#soup = bs(html, 'html.parser')"
   ]
  },
  {
   "cell_type": "code",
   "execution_count": null,
   "id": "cd59a567",
   "metadata": {},
   "outputs": [],
   "source": [
    "hemisphere_image_urls = []\n",
    "\n",
    "#Get a list of all hemispheres\n",
    "results = browser.find_by_css('a.product-item img')\n",
    "\n",
    "for item in range(len(results)):\n",
    "    hemisphere = {}\n",
    "    \n",
    "    #Get hemisphere title\n",
    "    hemisphere['title'] = browser.find_by_css('a.itemLink h3')[item].text\n",
    "    browser.find_by_css('a.itemLink img')[item].click()\n",
    "    \n",
    "    #Get Image anchor tag and extract href\n",
    "    raw_image = browser.find_by_text('Sample').first\n",
    "    hemisphere['img_url'] = raw_image['href']\n",
    "    \n",
    "    #Append hemisphere objects to list\n",
    "    hemisphere_image_urls.append(hemisphere)\n",
    "    \n",
    "    browser.back()\n",
    "    \n",
    "hemisphere_image_urls"
   ]
  }
 ],
 "metadata": {
  "kernelspec": {
   "display_name": "Python [conda env:PythonData] *",
   "language": "python",
   "name": "conda-env-PythonData-py"
  },
  "language_info": {
   "codemirror_mode": {
    "name": "ipython",
    "version": 3
   },
   "file_extension": ".py",
   "mimetype": "text/x-python",
   "name": "python",
   "nbconvert_exporter": "python",
   "pygments_lexer": "ipython3",
   "version": "3.6.10"
  }
 },
 "nbformat": 4,
 "nbformat_minor": 5
}